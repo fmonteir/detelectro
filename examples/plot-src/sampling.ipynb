{
 "cells": [
  {
   "cell_type": "markdown",
   "metadata": {},
   "source": [
    "# Determinant QMC data visualization"
   ]
  },
  {
   "cell_type": "code",
   "execution_count": 3,
   "metadata": {},
   "outputs": [],
   "source": [
    "import numpy as np\n",
    "import matplotlib.pyplot as plt\n",
    "import os\n",
    "import warnings\n",
    "cwd = os.getcwd()\n",
    "import seaborn as sns\n",
    "sns.set()\n",
    "sns.set_palette(\"Blues_r\")\n",
    "sns.set_style(\"white\")\n",
    "from matplotlib import rcParams\n",
    "rcParams['font.family'] = 'sans-serif'\n",
    "rcParams['font.sans-serif'] = ['Arial']"
   ]
  },
  {
   "cell_type": "markdown",
   "metadata": {},
   "source": [
    "## Define the system"
   ]
  },
  {
   "cell_type": "code",
   "execution_count": 7,
   "metadata": {},
   "outputs": [],
   "source": [
    "system = '2d-MoS2-nanoribbon'\n",
    "N = str(768)\n",
    "BETA = str(1)\n",
    "U = str(16)\n",
    "MU = str(1.5)\n",
    "NY = str(4)"
   ]
  },
  {
   "cell_type": "markdown",
   "metadata": {},
   "source": [
    "## Load simulation data"
   ]
  },
  {
   "cell_type": "code",
   "execution_count": 8,
   "metadata": {},
   "outputs": [],
   "source": [
    "if system == '1d-chain-pbc' or system == '1d-chain-obc'\\\n",
    "or system == '2d-sq-pbc' or system == '2d-sq-obc' or system == '2d-triang-pbc'\\\n",
    "or system == '2d-hc-pbc':\n",
    "    simDir = '../data/' + system + '/N' + N + '-BETA' + BETA + '-U' + U + '-MU' + MU\n",
    "    plotDir = '../plots/' + system + '/N' + N + '-BETA' + BETA + '-U' + U + '-MU' + MU\n",
    "else:\n",
    "    simDir = '../data/' + system + '/N' + N + '-BETA' + BETA + '-U' + U + '-MU' + MU + '-NY' + NY\n",
    "    plotDir = '../plots/' + system + '/N' + N + '-BETA' + BETA + '-U' + U + '-MU' + MU + '-NY' + NY\n",
    "\n",
    "# Load weights to plot\n",
    "weights = np.loadtxt(simDir + '/Log-weights.csv', skiprows = 1)"
   ]
  },
  {
   "cell_type": "markdown",
   "metadata": {},
   "source": [
    "## Metropolis Sampling Convergence"
   ]
  },
  {
   "cell_type": "code",
   "execution_count": 9,
   "metadata": {},
   "outputs": [
    {
     "data": {
      "text/plain": [
       "Text(0,0.5,'$\\\\log \\\\frac{| P(\\\\mathbf{h}) | }{ | P(\\\\mathbf{h_0}) | } $')"
      ]
     },
     "execution_count": 9,
     "metadata": {},
     "output_type": "execute_result"
    },
    {
     "data": {
      "image/png": "[encoded data removed]",
      "text/plain": [
       "<matplotlib.figure.Figure at 0x113ea5c88>"
      ]
     },
     "metadata": {},
     "output_type": "display_data"
    }
   ],
   "source": [
    "L = np.loadtxt(simDir + '/simulationParameters.csv', delimiter = ',', usecols = 1)[3]\n",
    "plt.plot(np.arange(len(weights)) / L , weights,\\\n",
    "         linewidth = 0, marker = 'o', markersize = 1) # show time in space-time sweeps\n",
    "plt.xlabel(r\"Space-time sweep\")\n",
    "plt.ylabel(r'$\\log \\frac{| P(\\mathbf{h}) | }{ | P(\\mathbf{h_0}) | } $')\n",
    "#plt.savefig(plotDir + '/Log-weights.png', dpi = 350, bbox_inches = 'tight')"
   ]
  },
  {
   "cell_type": "code",
   "execution_count": null,
   "metadata": {},
   "outputs": [],
   "source": []
  }
 ],
 "metadata": {
  "kernelspec": {
   "display_name": "Python 3",
   "language": "python",
   "name": "python3"
  },
  "language_info": {
   "codemirror_mode": {
    "name": "ipython",
    "version": 3
   },
   "file_extension": ".py",
   "mimetype": "text/x-python",
   "name": "python",
   "nbconvert_exporter": "python",
   "pygments_lexer": "ipython3",
   "version": "3.6.4"
  }
 },
 "nbformat": 4,
 "nbformat_minor": 2
}
