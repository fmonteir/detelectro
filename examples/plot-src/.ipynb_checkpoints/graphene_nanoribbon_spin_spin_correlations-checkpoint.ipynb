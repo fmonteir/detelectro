{
 "cells": [
  {
   "cell_type": "markdown",
   "metadata": {},
   "source": [
    "# Determinant QMC data visualization"
   ]
  },
  {
   "cell_type": "code",
   "execution_count": 1,
   "metadata": {},
   "outputs": [],
   "source": [
    "import numpy as np\n",
    "import matplotlib.pyplot as plt\n",
    "import os\n",
    "import warnings\n",
    "cwd = os.getcwd()\n",
    "import seaborn as sns\n",
    "sns.set()\n",
    "sns.set_palette(\"Blues_r\")\n",
    "sns.set_style(\"white\")\n",
    "from matplotlib import rcParams\n",
    "rcParams['font.family'] = 'sans-serif'\n",
    "rcParams['font.sans-serif'] = ['Arial']"
   ]
  },
  {
   "cell_type": "markdown",
   "metadata": {},
   "source": [
    "## Load simulation data"
   ]
  },
  {
   "cell_type": "code",
   "execution_count": 62,
   "metadata": {},
   "outputs": [],
   "source": [
    "simDir = '../data/2d-hc-nanoribbon-strain'"
   ]
  },
  {
   "cell_type": "markdown",
   "metadata": {},
   "source": [
    "# Metropolis Sampling convergence"
   ]
  },
  {
   "cell_type": "code",
   "execution_count": 64,
   "metadata": {},
   "outputs": [],
   "source": [
    "magCorr = np.loadtxt(simDir + '/EqTimeSzCorrelations.csv', skiprows = 1, delimiter = ',')\n",
    "magCorrErr = np.loadtxt(simDir + '/EqTimeSzCorrelationsError.csv', skiprows = 1, delimiter = ',')\n",
    "\n",
    "Nx = 6\n",
    "\n",
    "Ny = 6\n",
    "\n",
    "plotDir = '../plots/'"
   ]
  },
  {
   "cell_type": "code",
   "execution_count": 65,
   "metadata": {},
   "outputs": [
    {
     "data": {
      "text/plain": [
       "<matplotlib.legend.Legend at 0x115993518>"
      ]
     },
     "execution_count": 65,
     "metadata": {},
     "output_type": "execute_result"
    },
    {
     "data": {
      "text/plain": [
       "<matplotlib.figure.Figure at 0x1163b5e10>"
      ]
     },
     "metadata": {},
     "output_type": "display_data"
    },
    {
     "data": {
      "image/png": "[encoded data removed]",
      "text/plain": [
       "<matplotlib.figure.Figure at 0x1163b5e48>"
      ]
     },
     "metadata": {},
     "output_type": "display_data"
    }
   ],
   "source": [
    "plt.figure(1, figsize = (Nx, Ny))\n",
    "dist = 1\n",
    "a1 = dist * np.arange(Nx)\n",
    "a2 = dist * np.arange(Ny)\n",
    "vs = np.zeros((2 * Nx * Ny , 2))\n",
    "lat = np.zeros((2 * Nx * Ny))\n",
    "latErr = np.zeros((2 * Nx * Ny))\n",
    "clr = np.chararray((2 * Nx * Ny), itemsize = 10)\n",
    "v1 = np.array([1, 0])\n",
    "v2 = np.array([1 / 2, np.sqrt(3) / 2])\n",
    "for i in range(Nx):\n",
    "    for j in range(Ny):\n",
    "        for k in range(2):\n",
    "            vs[Nx * Ny * k + Nx * j + i, :] =\\\n",
    "            a1[i] * v1 + a2[j] * v2 + k *\\\n",
    "            np.array([1 / 2,- 1 / ( 2 * np.sqrt(3) )])\n",
    "            \n",
    "            lat[Nx * Ny * k + Nx * j + i]\\\n",
    "            = (magCorr[0, Nx * Ny * k + Nx*j + i])\n",
    "            \n",
    "            if magCorr[0, Nx * Ny * k + Nx*j + i] > 0 :\n",
    "                clr[Nx * Ny * k + Nx * j + i] = \"#e74c3c\"\n",
    "            else:\n",
    "                clr[Nx * Ny * k + Nx * j + i] = \"#95a5a6\"\n",
    "            \n",
    "\n",
    "dotscale = 400\n",
    "\n",
    "fig, ax = plt.subplots()\n",
    "\n",
    "plt.ylim(-2, 3)\n",
    "ax.scatter(vs[:, 0], vs[:, 1], s = dotscale * abs(lat),\\\n",
    "           c = clr.decode('UTF-8'), alpha = 0.8, edgecolors = None,\\\n",
    "          label = r'$\\left\\langle S_0^2\\right\\rangle=$' + f'{magCorr[0, 0]:.4f}' + r'$\\pm$' + f'{magCorrErr[0, 0]:.4f}')\n",
    "plt.axis('equal')\n",
    "plt.xlabel(r'$x$')\n",
    "plt.ylabel(r'$y$')\n",
    "plt.title(r'$\\left\\langle S_{\\mathbf{0}} S_{\\mathbf{r}} \\right\\rangle$')\n",
    "plt.legend()\n",
    "#plt.savefig(plotDir + '/CorrelationsDots.png', dpi = 600)"
   ]
  },
  {
   "cell_type": "code",
   "execution_count": 68,
   "metadata": {},
   "outputs": [
    {
     "data": {
      "text/plain": [
       "Text(0,0.5,'$\\\\left\\\\langle S_{0} S_{x} \\\\right\\\\rangle$')"
      ]
     },
     "execution_count": 68,
     "metadata": {},
     "output_type": "execute_result"
    },
    {
     "data": {
      "image/png": "[encoded data removed]",
      "text/plain": [
       "<matplotlib.figure.Figure at 0x11e082ba8>"
      ]
     },
     "metadata": {},
     "output_type": "display_data"
    }
   ],
   "source": [
    "fig, ax = plt.subplots()\n",
    "\n",
    "ax.semilogy(np.arange(Nx+1), np.hstack([magCorr[0, :Nx],magCorr[0, 0]]), linewidth = 0.5,\\\n",
    "        marker = 'o', markersize = 0.5, markeredgewidth = 4)\n",
    "             \n",
    "#ax.errorbar(np.arange(Nx+1), np.abs(np.hstack([magCorr[0, :Nx],magCorr[0, 0]])),\\\n",
    "#           linewidth = 0, elinewidth = 1,\\\n",
    "#            yerr=np.abs(np.hstack([magCorrErr[0, :Nx],magCorrErr[0, 0]])) / np.sqrt(Meas))\n",
    "plt.xlabel(r'$x$')\n",
    "plt.ylabel(r'$\\left\\langle S_{0} S_{x} \\right\\rangle$')\n",
    "#plt.ylim(-0.1, 0.1)\n",
    "#plt.savefig(plotDir + '/LongitudinalProfile.png', dpi = 600)"
   ]
  }
 ],
 "metadata": {
  "kernelspec": {
   "display_name": "Python 3",
   "language": "python",
   "name": "python3"
  },
  "language_info": {
   "codemirror_mode": {
    "name": "ipython",
    "version": 3
   },
   "file_extension": ".py",
   "mimetype": "text/x-python",
   "name": "python",
   "nbconvert_exporter": "python",
   "pygments_lexer": "ipython3",
   "version": "3.6.4"
  }
 },
 "nbformat": 4,
 "nbformat_minor": 2
}
