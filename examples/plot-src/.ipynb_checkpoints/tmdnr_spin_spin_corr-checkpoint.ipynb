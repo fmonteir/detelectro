{
 "cells": [
  {
   "cell_type": "markdown",
   "metadata": {},
   "source": [
    "# Determinant QMC data visualization"
   ]
  },
  {
   "cell_type": "code",
   "execution_count": 1,
   "metadata": {},
   "outputs": [],
   "source": [
    "import numpy as np\n",
    "import matplotlib.pyplot as plt\n",
    "import os\n",
    "import warnings\n",
    "cwd = os.getcwd()\n",
    "import seaborn as sns\n",
    "sns.set()\n",
    "sns.set_palette(\"Blues_r\")\n",
    "sns.set_style(\"white\")\n",
    "from matplotlib import rcParams\n",
    "rcParams['font.family'] = 'sans-serif'\n",
    "rcParams['font.sans-serif'] = ['Arial']"
   ]
  },
  {
   "cell_type": "markdown",
   "metadata": {},
   "source": [
    "## Load simulation data"
   ]
  },
  {
   "cell_type": "code",
   "execution_count": 2,
   "metadata": {},
   "outputs": [],
   "source": [
    "system = '2d-MoS2-nanoribbon'\n",
    "N = 96\n",
    "BETA = 1\n",
    "U = 16\n",
    "MU = 1\n",
    "NY = 4\n",
    "NX = int(N / NY / 3)\n",
    "\n",
    "simDir = '../data/' + system + '/N' + str(N)\\\n",
    "+ '-BETA' + str(BETA) + '-U' + str(U) + '-MU' + str(MU) + '-NY' + str(NY)\n",
    "plotDir = '../plots/' + system + '/N' + str(N)\\\n",
    "+ '-BETA' + str(BETA) + '-U' + str(U) + '-MU' + str(MU) + '-NY' + str(NY)"
   ]
  },
  {
   "cell_type": "markdown",
   "metadata": {},
   "source": [
    "## $S_z$ Spin-spin correlations $\\left\\langle S_{i}^\\alpha S_{j}^\\beta \\right\\rangle$"
   ]
  },
  {
   "cell_type": "code",
   "execution_count": 3,
   "metadata": {},
   "outputs": [],
   "source": [
    "SiaSjb = np.loadtxt(simDir + '/EqTimeSzCorrelations.csv', delimiter = ',', skiprows = 1)\n",
    "#SiaSjbErr = np.loadtxt(simDir + '/EqTimeSzCorrelationsError.csv', delimiter = ',', skiprows = 1)\n",
    "nOrb = 3"
   ]
  },
  {
   "cell_type": "markdown",
   "metadata": {},
   "source": [
    "## Two relevant orbital resolved representations:\n",
    "\n",
    "- Long range - 6 possibilities: $\\left\\langle S_{i}^{d_{z^2}} S_{j}^{d_{z^2}}\\right\\rangle$, $\\left\\langle S_{i}^{d_{xy}} S_{j}^{d_{xy}}\\right\\rangle$, $\\left\\langle S_{i}^{d_{x^2 - y^2}} S_{j}^{d_{x^2 - y^2}}\\right\\rangle$,\n",
    "$\\left\\langle S_{i}^{d_{z^2}} S_{j}^{d_{xy}}\\right\\rangle$, $\\left\\langle S_{i}^{d_{z^2}} S_{j}^{d_{x^2 - y^2}}\\right\\rangle$, $\\left\\langle S_{i}^{d_{xy}} S_{j}^{d_{x^2 - y^2}}\\right\\rangle$\n",
    "\n",
    "- On-site: $9 \\times 9$ matrix : $\\left\\langle S_{i}^{\\alpha} S_{i}^{\\beta}\\right\\rangle$"
   ]
  },
  {
   "cell_type": "markdown",
   "metadata": {},
   "source": [
    "### Long range"
   ]
  },
  {
   "cell_type": "code",
   "execution_count": 4,
   "metadata": {},
   "outputs": [],
   "source": [
    "SiSjdz2 = np.zeros((NY, NX*NY))\n",
    "SiSjdxy = np.zeros((NY, NX*NY))\n",
    "SiSjdx2y2 = np.zeros((NY, NX*NY))\n",
    "\n",
    "SiSjdz2xy = np.zeros((NY, NX*NY))\n",
    "SiSjdz2x2y2 = np.zeros((NY, NX*NY))\n",
    "SiSjdxyx2y2 = np.zeros((NY, NX*NY))\n",
    "\n",
    "SiSjdxyz2 = np.zeros((NY, NX*NY))\n",
    "SiSjdx2y2z2 = np.zeros((NY, NX*NY))\n",
    "SiSjdx2y2xy = np.zeros((NY, NX*NY))\n",
    "\n",
    "#SiSjdz2Err = np.zeros((NX*NY, NX*NY))\n",
    "#SiSjdxyErr = np.zeros((NX*NY, NX*NY))\n",
    "#SiSjdx2y2Err = np.zeros((NX*NY, NX*NY))\n",
    "\n",
    "#SiSjdz2xyErr = np.zeros((NX*NY, NX*NY))\n",
    "#SiSjdz2x2y2Err = np.zeros((NX*NY, NX*NY))\n",
    "#SiSjdxyx2y2Err = np.zeros((NX*NY, NX*NY))\n",
    "\n",
    "for i in range(NY):\n",
    "    for j in range(NX*NY):\n",
    "        SiSjdz2[i, j] = SiaSjb[3 * i, 3 * j]\n",
    "        SiSjdxy[i, j] = SiaSjb[3 * i + 1, 3 * j + 1]\n",
    "        SiSjdx2y2[i, j] = SiaSjb[3 * i + 2, 3 * j + 2]\n",
    "        \n",
    "        SiSjdz2xy[i, j] = SiaSjb[3 * i, 3 * j + 1]\n",
    "        SiSjdz2x2y2[i, j] = SiaSjb[3 * i, 3 * j + 2]\n",
    "        SiSjdxyx2y2[i, j] = SiaSjb[3 * i + 1, 3 * j + 2]\n",
    "        \n",
    "        SiSjdxyz2[i, j] = SiaSjb[3 * i + 1, 3 * j]\n",
    "        SiSjdx2y2z2[i, j] = SiaSjb[3 * i + 2, 3 * j]\n",
    "        SiSjdx2y2xy[i, j] = SiaSjb[3 * i + 2, 3 * j + 1]\n",
    "        \n",
    "#        SiSjdz2Err[i, j] = SiaSjbErr[3 * i, 3 * j]\n",
    "#        SiSjdxyErr[i, j] = SiaSjbErr[3 * i + 1, 3 * j + 1]\n",
    "#        SiSjdx2y2Err[i, j] = SiaSjbErr[3 * i + 2, 3 * j + 2]\n",
    "        \n",
    "#        SiSjdz2xyErr[i, j] = SiaSjbErr[3 * i, 3 * j]\n",
    "#        SiSjdz2x2y2Err[i, j] = SiaSjbErr[3 * i + 1, 3 * j + 1]\n",
    "#        SiSjdxyx2y2Err[i, j] = SiaSjbErr[3 * i + 2, 3 * j + 2]\n",
    "\n",
    "SiSj = SiSjdz2 + SiSjdxy + SiSjdx2y2 + SiSjdz2xy + SiSjdz2x2y2 + SiSjdxyx2y2 + SiSjdxyz2 + SiSjdx2y2z2 + SiSjdx2y2xy\n",
    "#SiSjErr = SiSjdz2Err + SiSjdxyErr + SiSjdx2y2Err + SiSjdz2xyErr + SiSjdz2x2y2Err + SiSjdxyx2y2Err"
   ]
  },
  {
   "cell_type": "markdown",
   "metadata": {},
   "source": [
    "## $\\left\\langle S_{i}^{d_{z^2}} S_{j}^{d_{z^2}}\\right\\rangle$"
   ]
  },
  {
   "cell_type": "code",
   "execution_count": 8,
   "metadata": {},
   "outputs": [
    {
     "data": {
      "text/plain": [
       "<matplotlib.legend.Legend at 0x117055278>"
      ]
     },
     "execution_count": 8,
     "metadata": {},
     "output_type": "execute_result"
    },
    {
     "data": {
      "text/plain": [
       "<matplotlib.figure.Figure at 0x116ffa5f8>"
      ]
     },
     "metadata": {},
     "output_type": "display_data"
    },
    {
     "data": {
      "image/png": "[encoded data removed]",
      "text/plain": [
       "<matplotlib.figure.Figure at 0x116ffa668>"
      ]
     },
     "metadata": {},
     "output_type": "display_data"
    }
   ],
   "source": [
    "ref_row = 3\n",
    "\n",
    "plt.figure(1, figsize = (8,8))\n",
    "a1 = np.arange(NX)\n",
    "a2 = np.arange(NY)\n",
    "vs = np.zeros((NX * NY , 2))\n",
    "clr = np.chararray((NX * NY), itemsize = 10)\n",
    "v1 = np.array([1, 0])\n",
    "v2 = np.array([1 / 2, np.sqrt(3) / 2])\n",
    "for i in range(NX):\n",
    "    for j in range(NY):\n",
    "            vs[NX * j + i, :] =\\\n",
    "            a1[i] * v1 + a2[j] * v2 \n",
    "            if (SiSj[ref_row, NX*j + i]) > 0:\n",
    "                clr[NX * j + i] = \"#e74c3c\"\n",
    "            else :\n",
    "                clr[NX * j + i] = \"#95a5a6\"\n",
    "\n",
    "dotscale = 1000\n",
    "\n",
    "fig, ax = plt.subplots()\n",
    "\n",
    "ax.scatter(vs[:, 0], vs[:, 1], s = dotscale * abs(SiSj[ref_row,:]),\\\n",
    "           c = clr.decode('UTF-8'), alpha = 0.8, edgecolors = None,\\\n",
    "          label = r'$\\left\\langle S_{\\mathbf{0}}^2\\right\\rangle=$')\n",
    "#ax.scatter(vs[:, 0], vs[:, 1], s = dotscale * abs(SiSjErr[0, :]),\\\n",
    "#           c = clr.decode('UTF-8'), alpha = 1, edgecolors = 'g', facecolors = None)\n",
    "plt.axis('equal')\n",
    "plt.xlabel(r'$x$')\n",
    "plt.ylabel(r'$y$')\n",
    "plt.title(r'$\\left\\langle S_{\\mathbf{0}} S_{\\mathbf{r}}\\right\\rangle$')\n",
    "plt.legend(loc = (0.5, 0.8))\n",
    "\n",
    "#plt.savefig(plotDir + '/S0Sr.png', dpi = 350)"
   ]
  },
  {
   "cell_type": "markdown",
   "metadata": {},
   "source": [
    "## Longitudinal correlations along one of the edges"
   ]
  },
  {
   "cell_type": "code",
   "execution_count": 11,
   "metadata": {},
   "outputs": [
    {
     "data": {
      "text/plain": [
       "Text(0,0.5,'$\\\\left\\\\langle S_{0} S_{x} \\\\right\\\\rangle$')"
      ]
     },
     "execution_count": 11,
     "metadata": {},
     "output_type": "execute_result"
    },
    {
     "data": {
      "image/png": "[encoded data removed]",
      "text/plain": [
       "<matplotlib.figure.Figure at 0x1174988d0>"
      ]
     },
     "metadata": {},
     "output_type": "display_data"
    }
   ],
   "source": [
    "fig, ax = plt.subplots()\n",
    "\n",
    "ref_point = ref_row * NX\n",
    "\n",
    "ax.errorbar(np.arange(NX), np.abs([SiSj[ref_row, ref_point + 1:ref_point + NX], SiSj[ref_row, ref_point]]),\\\n",
    "            linewidth = 0.8, elinewidth = 0.8,\\\n",
    "            marker = 'o', markersize = 0.5, markeredgewidth = 5,)\n",
    "            #yerr=np.hstack([SiSjErr[0, :NX], SiSjErr[0, 0]]))\n",
    "plt.xlabel(r'$x$')\n",
    "plt.ylabel(r'$\\left\\langle S_{0} S_{x} \\right\\rangle$')\n",
    "#plt.yscale('log')\n",
    "#plt.ylim(-0.1, 0.1)\n",
    "#plt.savefig(plotDir + '/LongitudinalProfile.png', dpi = 350)"
   ]
  },
  {
   "cell_type": "code",
   "execution_count": null,
   "metadata": {},
   "outputs": [],
   "source": []
  }
 ],
 "metadata": {
  "kernelspec": {
   "display_name": "Python 3",
   "language": "python",
   "name": "python3"
  },
  "language_info": {
   "codemirror_mode": {
    "name": "ipython",
    "version": 3
   },
   "file_extension": ".py",
   "mimetype": "text/x-python",
   "name": "python",
   "nbconvert_exporter": "python",
   "pygments_lexer": "ipython3",
   "version": "3.6.4"
  }
 },
 "nbformat": 4,
 "nbformat_minor": 2
}
