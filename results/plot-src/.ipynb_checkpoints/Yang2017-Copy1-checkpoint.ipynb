{
 "cells": [
  {
   "cell_type": "code",
   "execution_count": 16,
   "metadata": {},
   "outputs": [],
   "source": [
    "import numpy as np\n",
    "import matplotlib.pyplot as plt\n",
    "import matplotlib.cm as cm\n",
    "import matplotlib.pyplot as plt\n",
    "from mpl_toolkits.mplot3d import Axes3D\n",
    "import os\n",
    "import warnings\n",
    "cwd = os.getcwd()\n",
    "import seaborn as sns\n",
    "sns.set()\n",
    "sns.set_palette(\"Blues_r\")\n",
    "sns.set_style(\"white\")\n",
    "from matplotlib import rcParams\n",
    "rcParams['font.family'] = 'sans-serif'\n",
    "rcParams['font.sans-serif'] = ['Arial']\n",
    "from pylab import *\n",
    "\n",
    "SAVEPLOTS = True\n",
    "\n",
    "NSITES = 288\n",
    "dt = 0.125\n",
    "t = 1.\n",
    "U = 20.\n",
    "mu = 1.\n",
    "totalMCSweeps = 512\n",
    "freq = 4\n",
    "geom = 15\n",
    "ny = 8"
   ]
  },
  {
   "cell_type": "code",
   "execution_count": 17,
   "metadata": {},
   "outputs": [],
   "source": [
    "Nx = int(NSITES / 3 / ny)\n",
    "\n",
    "betas = [1., 1.5, 2.]\n",
    "\n",
    "sus = np.zeros(len(betas))\n",
    "\n",
    "susInv = np.zeros(len(betas))\n",
    "\n",
    "susError = np.zeros(len(betas))\n",
    "\n",
    "susInvError = np.zeros(len(betas))\n",
    "\n",
    "\n",
    "T = np.zeros(len(betas))\n",
    "\n",
    "for idx, beta in enumerate(betas):\n",
    "    L = int(beta / dt)\n",
    "    intsize = int(L / freq)\n",
    "    mainDir = ('../data/' + str(NSITES) + \\\n",
    "             'sites_L=' + str(L) + \\\n",
    "             '_beta=' + str(beta) + \\\n",
    "             '_dt_' + str(dt) + '_t_' + \\\n",
    "             str(t) + '_U_'+ str(U) + '_mu_' + str(mu))\n",
    "\n",
    "    simDir = (mainDir + '/data-to-reproduce/' + \\\n",
    "              '_freq_' + str(freq) + '_intsize_' + str(intsize) + \\\n",
    "              '_geom_' + str(geom) + '_ny_' + str(ny) )\n",
    "\n",
    "    plotDir = (mainDir + '/plots/' + \\\n",
    "              '_freq_' + str(freq) + '_intsize_' + str(intsize) + \\\n",
    "              '_geom_' + str(geom) + '_ny_' + str(ny) )\n",
    "  \n",
    "    sus[idx] = ( (np.loadtxt(simDir + '/EqTimeSzCorrelations.csv')[:3*Nx, :3*Nx]\\\n",
    "                  + np.loadtxt(simDir + '/EqTimeSzCorrelations.csv')[3*Nx*(ny-1):3*Nx*ny, 3*Nx*(ny-1):3*Nx*ny]).sum() ) * beta / Nx \n",
    "    \n",
    "    \n",
    "    susInv[idx] = 1 / ( ((np.loadtxt(simDir + '/EqTimeSzCorrelations.csv')[:3*Nx, :3*Nx]\\\n",
    "                  + np.loadtxt(simDir + '/EqTimeSzCorrelations.csv')[3*Nx*(ny-1):3*Nx*ny, 3*Nx*(ny-1):3*Nx*ny]).sum() )\\\n",
    "                             * beta / Nx )\n",
    "    #susUneq[idx] = ( 2 *  (np.loadtxt(simDir + '/UneqTimeSzCorrelations.csv')[:Nx, :Nx]).sum() )\n",
    "    susError[idx] = ( (np.loadtxt(simDir + '/EqTimeSzCorrelationsError.csv')[:3*Nx, :3*Nx]\\\n",
    "                  + np.loadtxt(simDir + '/EqTimeSzCorrelationsError.csv')[3*Nx*(ny-1):3*Nx*ny, 3*Nx*(ny-1):3*Nx*ny]).sum() ) * beta / Nx \n",
    "    susInvError[idx] = susError[idx] * susInv[idx]**2\n",
    "    T[idx] = 1 / beta"
   ]
  },
  {
   "cell_type": "code",
   "execution_count": 21,
   "metadata": {},
   "outputs": [
    {
     "ename": "SyntaxError",
     "evalue": "unexpected character after line continuation character (<ipython-input-21-91a6a1abe9ea>, line 8)",
     "output_type": "error",
     "traceback": [
      "\u001b[0;36m  File \u001b[0;32m\"<ipython-input-21-91a6a1abe9ea>\"\u001b[0;36m, line \u001b[0;32m8\u001b[0m\n\u001b[0;31m    plt.errorbar(T, susInv, marker = 'o', linewidth = 0,         markeredgewidth = 5, markersize = 1,\\#, yerr=susInvError, elinewidth = 1,\\\u001b[0m\n\u001b[0m                                                                                                                                           ^\u001b[0m\n\u001b[0;31mSyntaxError\u001b[0m\u001b[0;31m:\u001b[0m unexpected character after line continuation character\n"
     ]
    }
   ],
   "source": [
    "from scipy import stats\n",
    "\n",
    "slope, intercept, r_value, p_value, std_err = stats.linregress(T, susInv)\n",
    "\n",
    "#fit = np.polyfit(T, susInv, 1, cov=True)\n",
    "\n",
    "plt.plot([], [], label = r'$N = 3 \\times 9 \\times 4 \\quad U = 16 |t_0|\\\n",
    "\\quad \\left\\langle n \\right\\rangle = 0.66$', linewidth = 0)\n",
    "#, yerr=susInvError, elinewidth = 1,\\\n",
    "plt.errorbar(T, susInv, marker = 'o', linewidth = 0,\\\n",
    "         markeredgewidth = 5, markersize = 1,\\\n",
    "             label = 'Simulation data')\n",
    "plt.plot(np.linspace(0, 2, num=10), slope * np.linspace(0, 2, num=10) + intercept, linewidth = 1,\\\n",
    "         label = r'Linear fit: ' + r'$1 / \\chi_{edge} =$'\\\n",
    "         + f'{slope:.3f}'+ r'$T $' + r'$+$' f'{intercept:.3f},' + r'  $r^2=$' + f'{r_value**2:.3f}'\\\n",
    "        + r'  $\\sigma=$' + f'{std_err:.3f}' )\n",
    "plt.plot([], [], label = r'$1 / \\chi_{edge} = (T - T_c ) / A$' + r'$ \\rightarrow T_c=$'\\\n",
    "         + f'{-intercept / slope:.3f}' + r'$\\pm$' + f'{0.003:.3f}', linewidth = 0) \n",
    "\n",
    "plt.xlabel(r'$\\frac{T}{t}$')\n",
    "plt.ylabel(r'$1 / \\chi_{edge}$')\n",
    "plt.legend(fontsize =9.5, loc = (0.01, 0.62))\n",
    "#plt.savefig(\"fitTMD.png\", dpi = 600)"
   ]
  },
  {
   "cell_type": "code",
   "execution_count": 19,
   "metadata": {},
   "outputs": [
    {
     "data": {
      "text/plain": [
       "<matplotlib.legend.Legend at 0x119c90198>"
      ]
     },
     "execution_count": 19,
     "metadata": {},
     "output_type": "execute_result"
    },
    {
     "data": {
      "image/png": "[encoded data removed]",
      "text/plain": [
       "<matplotlib.figure.Figure at 0x119c772b0>"
      ]
     },
     "metadata": {},
     "output_type": "display_data"
    }
   ],
   "source": [
    "plt.plot(T, 1 / (slope * T + intercept), marker = 'o', markersize = 1, markeredgewidth = 5,\\\n",
    "         linewidth = 0., label = 'Fit')\n",
    "plt.plot(T, sus, linewidth = 0.5, label = 'Data')\n",
    "plt.xlabel(r'$\\frac{T}{t}$')\n",
    "plt.ylabel(r'$\\chi_{edge}$')\n",
    "plt.plot([], [], label = r'$\\chi_{edge} = A / (T - T_c )$' + r'$ \\rightarrow T_c=$'\\\n",
    "         + f'{-intercept / slope:.3f}' + r'$\\pm$' + f'{0.003:.3f}', linewidth = 0) \n",
    "plt.legend()\n",
    "#plt.savefig(\"chiT_TMD.png\", dpi = 600)"
   ]
  },
  {
   "cell_type": "markdown",
   "metadata": {},
   "source": [
    "### Compute error in $T_c$"
   ]
  },
  {
   "cell_type": "code",
   "execution_count": 192,
   "metadata": {},
   "outputs": [],
   "source": [
    "dm = np.sqrt(fit[1][0, 0])\n",
    "\n",
    "db = np.sqrt(fit[1][1, 1])"
   ]
  },
  {
   "cell_type": "code",
   "execution_count": 193,
   "metadata": {},
   "outputs": [
    {
     "data": {
      "text/plain": [
       "0.0031912351645451325"
      ]
     },
     "execution_count": 193,
     "metadata": {},
     "output_type": "execute_result"
    }
   ],
   "source": [
    "- intercept / slope**2 * dm + db / slope"
   ]
  },
  {
   "cell_type": "code",
   "execution_count": null,
   "metadata": {},
   "outputs": [],
   "source": []
  }
 ],
 "metadata": {
  "kernelspec": {
   "display_name": "Python 3",
   "language": "python",
   "name": "python3"
  },
  "language_info": {
   "codemirror_mode": {
    "name": "ipython",
    "version": 3
   },
   "file_extension": ".py",
   "mimetype": "text/x-python",
   "name": "python",
   "nbconvert_exporter": "python",
   "pygments_lexer": "ipython3",
   "version": "3.6.4"
  }
 },
 "nbformat": 4,
 "nbformat_minor": 2
}
